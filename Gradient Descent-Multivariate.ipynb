{
 "cells": [
  {
   "cell_type": "code",
   "execution_count": 1,
   "metadata": {},
   "outputs": [],
   "source": [
    "'''\n",
    "Run Boston housing data on Gradient descent with different learning rates. values. Run the training data to get the theta values \n",
    "for all learning rates which has minimum cost. For each of the theta values calculate the Correlation coefficient. Theta which \n",
    "gives the maximum r2 score will be used to predict test data and cost of test data.\n",
    "\n",
    "\n",
    "'''"
   ]
  },
  {
   "cell_type": "code",
   "execution_count": 4,
   "metadata": {},
   "outputs": [],
   "source": [
    "import pandas as pd\n",
    "import numpy as np\n",
    "import math\n",
    "from sklearn.metrics import matthews_corrcoef\n",
    "from sklearn.metrics import r2_score\n",
    "from sklearn import datasets\n",
    "from sklearn.model_selection import train_test_split\n",
    "from sklearn.metrics import r2_score\n",
    "from scipy.stats import pearsonr"
   ]
  },
  {
   "cell_type": "code",
   "execution_count": 5,
   "metadata": {},
   "outputs": [],
   "source": [
    "\n",
    "data=pd.read_csv('https://raw.githubusercontent.com/rromanss23/Machine_Leaning_Engineer_Udacity_NanoDegree/master/projects/boston_housing/housing.csv')"
   ]
  },
  {
   "cell_type": "code",
   "execution_count": 6,
   "metadata": {},
   "outputs": [],
   "source": [
    "#Standardize the data\n",
    "data=(data - data.mean())/data.std()"
   ]
  },
  {
   "cell_type": "code",
   "execution_count": 7,
   "metadata": {},
   "outputs": [],
   "source": [
    "#Insert a column with '1'. This is to keep the values of intercept(c) same across interation. Also to have appropiate dimension\n",
    "#for matrix calculation\n",
    "data.insert(0,'ones',1)\n"
   ]
  },
  {
   "cell_type": "code",
   "execution_count": 8,
   "metadata": {},
   "outputs": [],
   "source": [
    "#Get the X data\n",
    "X=data.iloc[:,0:4]"
   ]
  },
  {
   "cell_type": "code",
   "execution_count": 9,
   "metadata": {},
   "outputs": [],
   "source": [
    "#Extract y data \n",
    "y=data.iloc[:,-1]"
   ]
  },
  {
   "cell_type": "code",
   "execution_count": 10,
   "metadata": {},
   "outputs": [],
   "source": [
    "x_train,x_test,y_train,y_test=train_test_split(X,y,test_size=0.3,random_state=42)"
   ]
  },
  {
   "cell_type": "code",
   "execution_count": 11,
   "metadata": {},
   "outputs": [],
   "source": [
    "#Convert the dataframe and series into ndarray.\n",
    "xtrain=np.array(x_train.values)\n",
    "ytrain=np.array(y_train.values)\n",
    "xtest=np.array(x_test.values)\n",
    "ytest=np.array(y_test.values)"
   ]
  },
  {
   "cell_type": "code",
   "execution_count": 12,
   "metadata": {},
   "outputs": [],
   "source": [
    "'''\n",
    "Generate random values for theta at the begining.The first values will represent intercept (c) value.The remaining are slope(m)\n",
    "values for the equation of the line y=mx + c\n",
    "\n",
    "'''\n",
    "theta = np.random.rand(4)\n"
   ]
  },
  {
   "cell_type": "code",
   "execution_count": 13,
   "metadata": {},
   "outputs": [],
   "source": [
    "alpha=[0.01,0.1,1,5,10]  # Represents the learning curve."
   ]
  },
  {
   "cell_type": "code",
   "execution_count": 14,
   "metadata": {},
   "outputs": [],
   "source": [
    "'''\n",
    "Create data frame to hold theta values for a given alpha and at a given threshold value of cost.Dataframe also to hold cost for\n",
    "every alpha value till a given threshold of cost\n",
    "\n",
    "'''\n",
    "theta_data=np.zeros(shape=(len(alpha),len(theta)))\n",
    "df_theta=pd.DataFrame(theta_data,index=alpha,columns=[0,1,2,3])\n",
    "df_cost=pd.DataFrame(columns=[alpha])\n"
   ]
  },
  {
   "cell_type": "code",
   "execution_count": 15,
   "metadata": {},
   "outputs": [],
   "source": [
    "for val in alpha:\n",
    "   \n",
    "    i=0\n",
    "    cost=0\n",
    "    cost_list=[]\n",
    "    theta = np.random.rand(4)\n",
    "    temp=np.zeros(theta.shape)\n",
    "    run=True\n",
    "   \n",
    "\n",
    "    while run:\n",
    "    \n",
    "        pred=np.dot(xtrain,theta) # y=mx+c\n",
    "       \n",
    "        error=pred-ytrain  # predicted y - actual y\n",
    "        cost=np.sum(np.power(error,2))/len(xtrain)                 #Calculate the cost/MSE at each epoch.\n",
    "        cost_list.append(cost)                                  #Append the cost/MSE in a list.\n",
    "        \n",
    "        for j in range(0,len(theta)):                               #Iterating through len(theta) = Number of columns in X data\n",
    "       \n",
    "            if j==0:                                                #Cal derivative of c only for 1st value of theta\n",
    "                intercept=np.sum(np.dot(error,2))/len(xtrain)       #Cal deraitive of intercept(c)=1/len(x) *Sum((2(mx +c - actual y))\n",
    "                temp[j]=theta[j] - (val*intercept)                #Calculating GD for intercept(c).\n",
    "                    \n",
    "            else:\n",
    "                \n",
    "                term=np.multiply(error ,xtrain[:,j])                           #Cal derivative of slope(m) = 1/len(x) *Sum((2*X(mx +c -actual y))\n",
    "                temp[j]=theta[j] - 2*((val / len(xtrain)) * np.sum(term))    #Calculate GD for slope(m).\n",
    "               \n",
    "        theta=temp\n",
    "       \n",
    "            \n",
    "        if (i!=0) and (cost_list[i-1] - cost_list[i] <0.0001):\n",
    "           \n",
    "            df_theta.loc[val]=theta\n",
    "            df_cost[val]=pd.Series(cost_list)\n",
    "            run=False\n",
    "        i=i+1\n",
    "   "
   ]
  },
  {
   "cell_type": "code",
   "execution_count": 16,
   "metadata": {},
   "outputs": [],
   "source": [
    "'''\n",
    "Calculate correlation coefficient - Pearson Correlation\n",
    "\n",
    "'''\n",
    "sum_r_lst=[]\n",
    "df_coeff=pd.DataFrame(index=alpha,columns=['R-coeff'])\n",
    "df_new=pd.DataFrame(index=alpha)\n",
    "for i in range((df_theta.shape[0])):\n",
    "    coeff=0\n",
    "    \n",
    "    #Using iloc to access the values of the current row denoted by \"i\"\n",
    "                                                   \n",
    "    row_val= df_theta.iloc[i, :]\n",
    "    row_val=np.array(row_val.values)                                #Converting series to numpy\n",
    "    new_pred=np.dot(xtrain,row_val)                                 #Predicting xtrain data with different theta values obtained above\n",
    "    coeff=r2_score(ytrain,new_pred,multioutput='variance_weighted') #use r2_score to the correlation coefficient\n",
    "    df_coeff.at[df_theta.index[i]]=coeff                            #Populate the coefficient against each theta value\n",
    "    \n",
    "    sum_r=0\n",
    "   \n"
   ]
  },
  {
   "cell_type": "code",
   "execution_count": 18,
   "metadata": {},
   "outputs": [
    {
     "name": "stdout",
     "output_type": "stream",
     "text": [
      "Cost for test data 0.2610138470645927\n"
     ]
    }
   ],
   "source": [
    "'''\n",
    "Alpha with the corresponding theta values that gives the highest correlation coefficent will be used to predict the test data.\n",
    "\n",
    "'''\n",
    "\n",
    "max_coeff=max(df_coeff['R-coeff'])\n",
    "ida=df_coeff[['R-coeff']].astype(float).idxmax()[0] #Get the row index number for max coefficient value\n",
    "row_val1= df_theta.loc[ida]                         #Get the corresponding theta value for highest coefficient value\n",
    "theta_best=np.array(row_val1.values)                #Convert series of theta to numpy array\n",
    "pred_test=np.dot(xtest,theta_best)                  #Predict test data with best theta obtained above\n",
    "err_test=pred_test-ytest                            # Get the error for test data - predicted y - actual y\n",
    "cost_test=np.sum(np.power(err_test,2))/len(xtest)                 #Calculate the cost/MSE for test data.\n",
    "print('Cost for test data' ,cost_test)\n"
   ]
  },
  {
   "cell_type": "code",
   "execution_count": null,
   "metadata": {},
   "outputs": [],
   "source": []
  },
  {
   "cell_type": "code",
   "execution_count": null,
   "metadata": {},
   "outputs": [],
   "source": []
  }
 ],
 "metadata": {
  "kernelspec": {
   "display_name": "Python 3",
   "language": "python",
   "name": "python3"
  },
  "language_info": {
   "codemirror_mode": {
    "name": "ipython",
    "version": 3
   },
   "file_extension": ".py",
   "mimetype": "text/x-python",
   "name": "python",
   "nbconvert_exporter": "python",
   "pygments_lexer": "ipython3",
   "version": "3.7.1"
  }
 },
 "nbformat": 4,
 "nbformat_minor": 2
}
